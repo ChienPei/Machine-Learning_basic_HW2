{
 "cells": [
  {
   "cell_type": "markdown",
   "metadata": {
    "id": "yEtwmT5QNVLn"
   },
   "source": [
    "# **HW2: Decision Tree** \n",
    "In *assignment 2*, you need to:\n",
    "\n",
    "1.   Implement the decision tree in 3 steps (with the example data)\n",
    "\n",
    "\n",
    "*   Step 1: calculate the entropy\n",
    "*   Step 2: search for the best split\n",
    "*   Step 3: build the decision tree\n",
    "\n",
    "2.   Predict the patients' death (hospDIED) in the *MIMIC* dataset\n",
    "\n",
    "Please fill in your **studentID** here."
   ]
  },
  {
   "cell_type": "code",
   "execution_count": 87,
   "metadata": {
    "id": "F-ad78F1Ng-0"
   },
   "outputs": [],
   "source": [
    "STUDENT_ID = 'STUDENT_ID'"
   ]
  },
  {
   "cell_type": "markdown",
   "metadata": {
    "id": "s6lZtFwY4kjA"
   },
   "source": [
    "# **1. Implement the Decision Tree**\n",
    "In the first part, you need to implement the decision tree by completing the given funcitions.\n",
    "\n",
    "Also, you need to run those functions with given input variables and save the output to the implementation csv file **[STUDENT_ID]_implementation.csv**.\n",
    "\n",
    "Implement a binary decision tree to classify *Restaurant* dataset."
   ]
  },
  {
   "cell_type": "markdown",
   "metadata": {
    "id": "aFStwbIaNkrQ"
   },
   "source": [
    "## Import Packages\n",
    "\n",
    "Note: You **cannot** import any other packages in the first part (implementation)!"
   ]
  },
  {
   "cell_type": "code",
   "execution_count": 88,
   "metadata": {
    "id": "Gea2xBsNdQMC"
   },
   "outputs": [],
   "source": [
    "import numpy as np\n",
    "import pandas as pd\n",
    "import random"
   ]
  },
  {
   "cell_type": "markdown",
   "metadata": {
    "id": "QENWRdMMO3z_"
   },
   "source": [
    "## Load the Example Data\n",
    "First, load the *Restaurant waiting* dataset: **data.csv**"
   ]
  },
  {
   "cell_type": "code",
   "execution_count": 89,
   "metadata": {
    "colab": {
     "base_uri": "https://localhost:8080/",
     "height": 421
    },
    "id": "cMQ8mdm04rN0",
    "outputId": "79a641fc-a53f-474d-edd4-351ac32a3d4b"
   },
   "outputs": [
    {
     "data": {
      "text/html": [
       "<div>\n",
       "<style scoped>\n",
       "    .dataframe tbody tr th:only-of-type {\n",
       "        vertical-align: middle;\n",
       "    }\n",
       "\n",
       "    .dataframe tbody tr th {\n",
       "        vertical-align: top;\n",
       "    }\n",
       "\n",
       "    .dataframe thead th {\n",
       "        text-align: right;\n",
       "    }\n",
       "</style>\n",
       "<table border=\"1\" class=\"dataframe\">\n",
       "  <thead>\n",
       "    <tr style=\"text-align: right;\">\n",
       "      <th></th>\n",
       "      <th>Unnamed: 0</th>\n",
       "      <th>Alternate</th>\n",
       "      <th>Bar</th>\n",
       "      <th>Friday</th>\n",
       "      <th>Hungry</th>\n",
       "      <th>Patrons</th>\n",
       "      <th>Price</th>\n",
       "      <th>Raining</th>\n",
       "      <th>Reservation</th>\n",
       "      <th>Type</th>\n",
       "      <th>WaitEstimate</th>\n",
       "      <th>Wait</th>\n",
       "    </tr>\n",
       "  </thead>\n",
       "  <tbody>\n",
       "    <tr>\n",
       "      <th>0</th>\n",
       "      <td>X1</td>\n",
       "      <td>T</td>\n",
       "      <td>F</td>\n",
       "      <td>F</td>\n",
       "      <td>T</td>\n",
       "      <td>Some</td>\n",
       "      <td>High</td>\n",
       "      <td>F</td>\n",
       "      <td>T</td>\n",
       "      <td>French</td>\n",
       "      <td>8</td>\n",
       "      <td>T</td>\n",
       "    </tr>\n",
       "    <tr>\n",
       "      <th>1</th>\n",
       "      <td>X2</td>\n",
       "      <td>T</td>\n",
       "      <td>F</td>\n",
       "      <td>F</td>\n",
       "      <td>T</td>\n",
       "      <td>Full</td>\n",
       "      <td>Low</td>\n",
       "      <td>F</td>\n",
       "      <td>F</td>\n",
       "      <td>Thai</td>\n",
       "      <td>40</td>\n",
       "      <td>F</td>\n",
       "    </tr>\n",
       "    <tr>\n",
       "      <th>2</th>\n",
       "      <td>X3</td>\n",
       "      <td>F</td>\n",
       "      <td>T</td>\n",
       "      <td>F</td>\n",
       "      <td>F</td>\n",
       "      <td>Some</td>\n",
       "      <td>Low</td>\n",
       "      <td>F</td>\n",
       "      <td>F</td>\n",
       "      <td>Burger</td>\n",
       "      <td>8</td>\n",
       "      <td>T</td>\n",
       "    </tr>\n",
       "    <tr>\n",
       "      <th>3</th>\n",
       "      <td>X4</td>\n",
       "      <td>T</td>\n",
       "      <td>F</td>\n",
       "      <td>T</td>\n",
       "      <td>T</td>\n",
       "      <td>Full</td>\n",
       "      <td>Low</td>\n",
       "      <td>F</td>\n",
       "      <td>F</td>\n",
       "      <td>Thai</td>\n",
       "      <td>12</td>\n",
       "      <td>T</td>\n",
       "    </tr>\n",
       "    <tr>\n",
       "      <th>4</th>\n",
       "      <td>X5</td>\n",
       "      <td>T</td>\n",
       "      <td>F</td>\n",
       "      <td>T</td>\n",
       "      <td>F</td>\n",
       "      <td>Full</td>\n",
       "      <td>High</td>\n",
       "      <td>F</td>\n",
       "      <td>T</td>\n",
       "      <td>French</td>\n",
       "      <td>70</td>\n",
       "      <td>F</td>\n",
       "    </tr>\n",
       "    <tr>\n",
       "      <th>5</th>\n",
       "      <td>X6</td>\n",
       "      <td>F</td>\n",
       "      <td>T</td>\n",
       "      <td>F</td>\n",
       "      <td>T</td>\n",
       "      <td>Some</td>\n",
       "      <td>Medium</td>\n",
       "      <td>T</td>\n",
       "      <td>T</td>\n",
       "      <td>Italian</td>\n",
       "      <td>3</td>\n",
       "      <td>T</td>\n",
       "    </tr>\n",
       "    <tr>\n",
       "      <th>6</th>\n",
       "      <td>X7</td>\n",
       "      <td>F</td>\n",
       "      <td>T</td>\n",
       "      <td>F</td>\n",
       "      <td>F</td>\n",
       "      <td>None</td>\n",
       "      <td>Low</td>\n",
       "      <td>T</td>\n",
       "      <td>F</td>\n",
       "      <td>Burger</td>\n",
       "      <td>7</td>\n",
       "      <td>F</td>\n",
       "    </tr>\n",
       "    <tr>\n",
       "      <th>7</th>\n",
       "      <td>X8</td>\n",
       "      <td>F</td>\n",
       "      <td>F</td>\n",
       "      <td>F</td>\n",
       "      <td>T</td>\n",
       "      <td>Some</td>\n",
       "      <td>Medium</td>\n",
       "      <td>T</td>\n",
       "      <td>T</td>\n",
       "      <td>Thai</td>\n",
       "      <td>6</td>\n",
       "      <td>T</td>\n",
       "    </tr>\n",
       "    <tr>\n",
       "      <th>8</th>\n",
       "      <td>X9</td>\n",
       "      <td>F</td>\n",
       "      <td>T</td>\n",
       "      <td>T</td>\n",
       "      <td>F</td>\n",
       "      <td>Full</td>\n",
       "      <td>Low</td>\n",
       "      <td>T</td>\n",
       "      <td>F</td>\n",
       "      <td>Burger</td>\n",
       "      <td>80</td>\n",
       "      <td>F</td>\n",
       "    </tr>\n",
       "    <tr>\n",
       "      <th>9</th>\n",
       "      <td>X10</td>\n",
       "      <td>T</td>\n",
       "      <td>T</td>\n",
       "      <td>T</td>\n",
       "      <td>T</td>\n",
       "      <td>Full</td>\n",
       "      <td>High</td>\n",
       "      <td>F</td>\n",
       "      <td>T</td>\n",
       "      <td>Italian</td>\n",
       "      <td>20</td>\n",
       "      <td>F</td>\n",
       "    </tr>\n",
       "    <tr>\n",
       "      <th>10</th>\n",
       "      <td>X11</td>\n",
       "      <td>F</td>\n",
       "      <td>F</td>\n",
       "      <td>F</td>\n",
       "      <td>F</td>\n",
       "      <td>None</td>\n",
       "      <td>Low</td>\n",
       "      <td>F</td>\n",
       "      <td>F</td>\n",
       "      <td>Thai</td>\n",
       "      <td>8</td>\n",
       "      <td>F</td>\n",
       "    </tr>\n",
       "    <tr>\n",
       "      <th>11</th>\n",
       "      <td>X12</td>\n",
       "      <td>T</td>\n",
       "      <td>T</td>\n",
       "      <td>T</td>\n",
       "      <td>T</td>\n",
       "      <td>Full</td>\n",
       "      <td>Low</td>\n",
       "      <td>F</td>\n",
       "      <td>F</td>\n",
       "      <td>Burger</td>\n",
       "      <td>40</td>\n",
       "      <td>T</td>\n",
       "    </tr>\n",
       "  </tbody>\n",
       "</table>\n",
       "</div>"
      ],
      "text/plain": [
       "   Unnamed: 0 Alternate Bar Friday Hungry Patrons   Price Raining Reservation  \\\n",
       "0          X1         T   F      F      T    Some    High       F           T   \n",
       "1          X2         T   F      F      T    Full     Low       F           F   \n",
       "2          X3         F   T      F      F    Some     Low       F           F   \n",
       "3          X4         T   F      T      T    Full     Low       F           F   \n",
       "4          X5         T   F      T      F    Full    High       F           T   \n",
       "5          X6         F   T      F      T    Some  Medium       T           T   \n",
       "6          X7         F   T      F      F    None     Low       T           F   \n",
       "7          X8         F   F      F      T    Some  Medium       T           T   \n",
       "8          X9         F   T      T      F    Full     Low       T           F   \n",
       "9         X10         T   T      T      T    Full    High       F           T   \n",
       "10        X11         F   F      F      F    None     Low       F           F   \n",
       "11        X12         T   T      T      T    Full     Low       F           F   \n",
       "\n",
       "       Type  WaitEstimate Wait  \n",
       "0    French             8    T  \n",
       "1      Thai            40    F  \n",
       "2    Burger             8    T  \n",
       "3      Thai            12    T  \n",
       "4    French            70    F  \n",
       "5   Italian             3    T  \n",
       "6    Burger             7    F  \n",
       "7      Thai             6    T  \n",
       "8    Burger            80    F  \n",
       "9   Italian            20    F  \n",
       "10     Thai             8    F  \n",
       "11   Burger            40    T  "
      ]
     },
     "execution_count": 89,
     "metadata": {},
     "output_type": "execute_result"
    }
   ],
   "source": [
    "example = pd.read_csv('https://raw.githubusercontent.com/aubreyyy24/HW2_data/main/data.csv')\n",
    "example"
   ]
  },
  {
   "cell_type": "code",
   "execution_count": 90,
   "metadata": {
    "id": "3Kzf-VIW50wi"
   },
   "outputs": [],
   "source": [
    "example = example.drop(['Unnamed: 0'], axis=1)"
   ]
  },
  {
   "cell_type": "code",
   "execution_count": 91,
   "metadata": {
    "colab": {
     "base_uri": "https://localhost:8080/",
     "height": 421
    },
    "id": "2VZ0rIII1YEV",
    "outputId": "e30f2d11-875c-4288-ea58-f567981b695d"
   },
   "outputs": [
    {
     "data": {
      "text/html": [
       "<div>\n",
       "<style scoped>\n",
       "    .dataframe tbody tr th:only-of-type {\n",
       "        vertical-align: middle;\n",
       "    }\n",
       "\n",
       "    .dataframe tbody tr th {\n",
       "        vertical-align: top;\n",
       "    }\n",
       "\n",
       "    .dataframe thead th {\n",
       "        text-align: right;\n",
       "    }\n",
       "</style>\n",
       "<table border=\"1\" class=\"dataframe\">\n",
       "  <thead>\n",
       "    <tr style=\"text-align: right;\">\n",
       "      <th></th>\n",
       "      <th>Alternate</th>\n",
       "      <th>Bar</th>\n",
       "      <th>Friday</th>\n",
       "      <th>Hungry</th>\n",
       "      <th>Patrons</th>\n",
       "      <th>Price</th>\n",
       "      <th>Raining</th>\n",
       "      <th>Reservation</th>\n",
       "      <th>Type</th>\n",
       "      <th>WaitEstimate</th>\n",
       "      <th>Wait</th>\n",
       "    </tr>\n",
       "  </thead>\n",
       "  <tbody>\n",
       "    <tr>\n",
       "      <th>0</th>\n",
       "      <td>1</td>\n",
       "      <td>0</td>\n",
       "      <td>0</td>\n",
       "      <td>1</td>\n",
       "      <td>2</td>\n",
       "      <td>0</td>\n",
       "      <td>0</td>\n",
       "      <td>1</td>\n",
       "      <td>1</td>\n",
       "      <td>8</td>\n",
       "      <td>T</td>\n",
       "    </tr>\n",
       "    <tr>\n",
       "      <th>1</th>\n",
       "      <td>1</td>\n",
       "      <td>0</td>\n",
       "      <td>0</td>\n",
       "      <td>1</td>\n",
       "      <td>0</td>\n",
       "      <td>1</td>\n",
       "      <td>0</td>\n",
       "      <td>0</td>\n",
       "      <td>3</td>\n",
       "      <td>40</td>\n",
       "      <td>F</td>\n",
       "    </tr>\n",
       "    <tr>\n",
       "      <th>2</th>\n",
       "      <td>0</td>\n",
       "      <td>1</td>\n",
       "      <td>0</td>\n",
       "      <td>0</td>\n",
       "      <td>2</td>\n",
       "      <td>1</td>\n",
       "      <td>0</td>\n",
       "      <td>0</td>\n",
       "      <td>0</td>\n",
       "      <td>8</td>\n",
       "      <td>T</td>\n",
       "    </tr>\n",
       "    <tr>\n",
       "      <th>3</th>\n",
       "      <td>1</td>\n",
       "      <td>0</td>\n",
       "      <td>1</td>\n",
       "      <td>1</td>\n",
       "      <td>0</td>\n",
       "      <td>1</td>\n",
       "      <td>0</td>\n",
       "      <td>0</td>\n",
       "      <td>3</td>\n",
       "      <td>12</td>\n",
       "      <td>T</td>\n",
       "    </tr>\n",
       "    <tr>\n",
       "      <th>4</th>\n",
       "      <td>1</td>\n",
       "      <td>0</td>\n",
       "      <td>1</td>\n",
       "      <td>0</td>\n",
       "      <td>0</td>\n",
       "      <td>0</td>\n",
       "      <td>0</td>\n",
       "      <td>1</td>\n",
       "      <td>1</td>\n",
       "      <td>70</td>\n",
       "      <td>F</td>\n",
       "    </tr>\n",
       "    <tr>\n",
       "      <th>5</th>\n",
       "      <td>0</td>\n",
       "      <td>1</td>\n",
       "      <td>0</td>\n",
       "      <td>1</td>\n",
       "      <td>2</td>\n",
       "      <td>2</td>\n",
       "      <td>1</td>\n",
       "      <td>1</td>\n",
       "      <td>2</td>\n",
       "      <td>3</td>\n",
       "      <td>T</td>\n",
       "    </tr>\n",
       "    <tr>\n",
       "      <th>6</th>\n",
       "      <td>0</td>\n",
       "      <td>1</td>\n",
       "      <td>0</td>\n",
       "      <td>0</td>\n",
       "      <td>1</td>\n",
       "      <td>1</td>\n",
       "      <td>1</td>\n",
       "      <td>0</td>\n",
       "      <td>0</td>\n",
       "      <td>7</td>\n",
       "      <td>F</td>\n",
       "    </tr>\n",
       "    <tr>\n",
       "      <th>7</th>\n",
       "      <td>0</td>\n",
       "      <td>0</td>\n",
       "      <td>0</td>\n",
       "      <td>1</td>\n",
       "      <td>2</td>\n",
       "      <td>2</td>\n",
       "      <td>1</td>\n",
       "      <td>1</td>\n",
       "      <td>3</td>\n",
       "      <td>6</td>\n",
       "      <td>T</td>\n",
       "    </tr>\n",
       "    <tr>\n",
       "      <th>8</th>\n",
       "      <td>0</td>\n",
       "      <td>1</td>\n",
       "      <td>1</td>\n",
       "      <td>0</td>\n",
       "      <td>0</td>\n",
       "      <td>1</td>\n",
       "      <td>1</td>\n",
       "      <td>0</td>\n",
       "      <td>0</td>\n",
       "      <td>80</td>\n",
       "      <td>F</td>\n",
       "    </tr>\n",
       "    <tr>\n",
       "      <th>9</th>\n",
       "      <td>1</td>\n",
       "      <td>1</td>\n",
       "      <td>1</td>\n",
       "      <td>1</td>\n",
       "      <td>0</td>\n",
       "      <td>0</td>\n",
       "      <td>0</td>\n",
       "      <td>1</td>\n",
       "      <td>2</td>\n",
       "      <td>20</td>\n",
       "      <td>F</td>\n",
       "    </tr>\n",
       "    <tr>\n",
       "      <th>10</th>\n",
       "      <td>0</td>\n",
       "      <td>0</td>\n",
       "      <td>0</td>\n",
       "      <td>0</td>\n",
       "      <td>1</td>\n",
       "      <td>1</td>\n",
       "      <td>0</td>\n",
       "      <td>0</td>\n",
       "      <td>3</td>\n",
       "      <td>8</td>\n",
       "      <td>F</td>\n",
       "    </tr>\n",
       "    <tr>\n",
       "      <th>11</th>\n",
       "      <td>1</td>\n",
       "      <td>1</td>\n",
       "      <td>1</td>\n",
       "      <td>1</td>\n",
       "      <td>0</td>\n",
       "      <td>1</td>\n",
       "      <td>0</td>\n",
       "      <td>0</td>\n",
       "      <td>0</td>\n",
       "      <td>40</td>\n",
       "      <td>T</td>\n",
       "    </tr>\n",
       "  </tbody>\n",
       "</table>\n",
       "</div>"
      ],
      "text/plain": [
       "    Alternate  Bar  Friday  Hungry  Patrons  Price  Raining  Reservation  \\\n",
       "0           1    0       0       1        2      0        0            1   \n",
       "1           1    0       0       1        0      1        0            0   \n",
       "2           0    1       0       0        2      1        0            0   \n",
       "3           1    0       1       1        0      1        0            0   \n",
       "4           1    0       1       0        0      0        0            1   \n",
       "5           0    1       0       1        2      2        1            1   \n",
       "6           0    1       0       0        1      1        1            0   \n",
       "7           0    0       0       1        2      2        1            1   \n",
       "8           0    1       1       0        0      1        1            0   \n",
       "9           1    1       1       1        0      0        0            1   \n",
       "10          0    0       0       0        1      1        0            0   \n",
       "11          1    1       1       1        0      1        0            0   \n",
       "\n",
       "    Type  WaitEstimate Wait  \n",
       "0      1             8    T  \n",
       "1      3            40    F  \n",
       "2      0             8    T  \n",
       "3      3            12    T  \n",
       "4      1            70    F  \n",
       "5      2             3    T  \n",
       "6      0             7    F  \n",
       "7      3             6    T  \n",
       "8      0            80    F  \n",
       "9      2            20    F  \n",
       "10     3             8    F  \n",
       "11     0            40    T  "
      ]
     },
     "execution_count": 91,
     "metadata": {},
     "output_type": "execute_result"
    }
   ],
   "source": [
    "# change the string categorical to integer labels\n",
    "from sklearn.preprocessing import LabelEncoder\n",
    "labelencoder = LabelEncoder()\n",
    "\n",
    "example['Alternate'] = labelencoder.fit_transform(example['Alternate'])\n",
    "example['Bar'] = labelencoder.fit_transform(example['Bar'])\n",
    "example['Friday'] = labelencoder.fit_transform(example['Friday'])\n",
    "example['Hungry'] = labelencoder.fit_transform(example['Hungry'])\n",
    "example['Patrons'] = labelencoder.fit_transform(example['Patrons'])\n",
    "example['Price'] = labelencoder.fit_transform(example['Price'])\n",
    "example['Raining'] = labelencoder.fit_transform(example['Raining'])\n",
    "example['Reservation'] = labelencoder.fit_transform(example['Reservation'])\n",
    "example['Type'] = labelencoder.fit_transform(example['Type'])\n",
    "\n",
    "example"
   ]
  },
  {
   "cell_type": "markdown",
   "metadata": {
    "id": "v3c8J0ABQ7v0"
   },
   "source": [
    "## Calculating the Entropy *(20%)*\n"
   ]
  },
  {
   "cell_type": "code",
   "execution_count": 92,
   "metadata": {
    "id": "WyGQn_XJnyoc"
   },
   "outputs": [],
   "source": [
    "# split the data by given attribute and its threshold\n",
    "def partition(data, column, threshold):\n",
    "  \"\"\"\n",
    "  The *partition* function will split the input data into 2 branches.\n",
    "    args:\n",
    "    *   data(DataFrame): the input data\n",
    "    *   column(str): the attribute(column name)\n",
    "    *   threshold(float): the column's threshold for splitting the data\n",
    "    returns:\n",
    "    *   match_branch(DataFrame): the divided data that matches the assigned column's threshold\n",
    "    *   false_branch(DataFrame): the divided data that doesn't match the assigned column's threshold\n",
    "  \"\"\"\n",
    "  match_branch_init = {\n",
    "    \"Alternate\":[],\t\n",
    "    \"Bar\":[],\t\n",
    "    \"Friday\":[],\t\n",
    "    \"Hungry\":[],\t\n",
    "    \"Patrons\":[],\t\n",
    "    \"Price\":[],\t\n",
    "    \"Raining\":[],\t\n",
    "    \"Reservation\":[],\t\n",
    "    \"Type\":[],\t\n",
    "    \"WaitEstimate\":[],\t\n",
    "    \"Wait\":[],\n",
    "  }\n",
    "  match_branch = pd.DataFrame(match_branch_init)\n",
    "\n",
    "  false_branch_init = {\n",
    "    \"Alternate\":[],\t\n",
    "    \"Bar\":[],\t\n",
    "    \"Friday\":[],\t\n",
    "    \"Hungry\":[],\t\n",
    "    \"Patrons\":[],\t\n",
    "    \"Price\":[],\t\n",
    "    \"Raining\":[],\t\n",
    "    \"Reservation\":[],\t\n",
    "    \"Type\":[],\t\n",
    "    \"WaitEstimate\":[],\t\n",
    "    \"Wait\":[],\n",
    "  }\n",
    "  false_branch = pd.DataFrame(false_branch_init)\n",
    "\n",
    "  for i in range(0,len(data)):\n",
    "    if data[column][i] <= threshold:\n",
    "      match_branch=match_branch.append(data.T[i],ignore_index=True)\n",
    "    else:\n",
    "      false_branch = false_branch.append(data.T[i],ignore_index=True)\n",
    "      \n",
    "  return match_branch, false_branch"
   ]
  },
  {
   "cell_type": "markdown",
   "metadata": {
    "id": "bEzlw4y5AK-7"
   },
   "source": [
    "If we try *partition(example, 'Patrons', 1.5)*:\n",
    "\n",
    "split example to \n",
    "\n",
    "match_left(Patrons<= 1.5) (Patrons != Some) and  \n",
    "false_right(Patrons > 1.5) (Patrons == Some)\n",
    "\n",
    "column: Patrons, threshold: 1.5\n",
    "\n"
   ]
  },
  {
   "cell_type": "code",
   "execution_count": 93,
   "metadata": {
    "colab": {
     "base_uri": "https://localhost:8080/",
     "height": 238
    },
    "id": "h-5MqfHcJ2Id",
    "outputId": "c6425c87-a935-4f55-8510-90dc05769987"
   },
   "outputs": [
    {
     "name": "stdout",
     "output_type": "stream",
     "text": [
      "(8, 11)\n",
      "(4, 11)\n"
     ]
    },
    {
     "data": {
      "text/html": [
       "<div>\n",
       "<style scoped>\n",
       "    .dataframe tbody tr th:only-of-type {\n",
       "        vertical-align: middle;\n",
       "    }\n",
       "\n",
       "    .dataframe tbody tr th {\n",
       "        vertical-align: top;\n",
       "    }\n",
       "\n",
       "    .dataframe thead th {\n",
       "        text-align: right;\n",
       "    }\n",
       "</style>\n",
       "<table border=\"1\" class=\"dataframe\">\n",
       "  <thead>\n",
       "    <tr style=\"text-align: right;\">\n",
       "      <th></th>\n",
       "      <th>Alternate</th>\n",
       "      <th>Bar</th>\n",
       "      <th>Friday</th>\n",
       "      <th>Hungry</th>\n",
       "      <th>Patrons</th>\n",
       "      <th>Price</th>\n",
       "      <th>Raining</th>\n",
       "      <th>Reservation</th>\n",
       "      <th>Type</th>\n",
       "      <th>WaitEstimate</th>\n",
       "      <th>Wait</th>\n",
       "    </tr>\n",
       "  </thead>\n",
       "  <tbody>\n",
       "    <tr>\n",
       "      <th>0</th>\n",
       "      <td>1.0</td>\n",
       "      <td>0.0</td>\n",
       "      <td>0.0</td>\n",
       "      <td>1.0</td>\n",
       "      <td>0.0</td>\n",
       "      <td>1.0</td>\n",
       "      <td>0.0</td>\n",
       "      <td>0.0</td>\n",
       "      <td>3.0</td>\n",
       "      <td>40.0</td>\n",
       "      <td>F</td>\n",
       "    </tr>\n",
       "    <tr>\n",
       "      <th>1</th>\n",
       "      <td>1.0</td>\n",
       "      <td>0.0</td>\n",
       "      <td>1.0</td>\n",
       "      <td>1.0</td>\n",
       "      <td>0.0</td>\n",
       "      <td>1.0</td>\n",
       "      <td>0.0</td>\n",
       "      <td>0.0</td>\n",
       "      <td>3.0</td>\n",
       "      <td>12.0</td>\n",
       "      <td>T</td>\n",
       "    </tr>\n",
       "    <tr>\n",
       "      <th>2</th>\n",
       "      <td>1.0</td>\n",
       "      <td>0.0</td>\n",
       "      <td>1.0</td>\n",
       "      <td>0.0</td>\n",
       "      <td>0.0</td>\n",
       "      <td>0.0</td>\n",
       "      <td>0.0</td>\n",
       "      <td>1.0</td>\n",
       "      <td>1.0</td>\n",
       "      <td>70.0</td>\n",
       "      <td>F</td>\n",
       "    </tr>\n",
       "    <tr>\n",
       "      <th>3</th>\n",
       "      <td>0.0</td>\n",
       "      <td>1.0</td>\n",
       "      <td>0.0</td>\n",
       "      <td>0.0</td>\n",
       "      <td>1.0</td>\n",
       "      <td>1.0</td>\n",
       "      <td>1.0</td>\n",
       "      <td>0.0</td>\n",
       "      <td>0.0</td>\n",
       "      <td>7.0</td>\n",
       "      <td>F</td>\n",
       "    </tr>\n",
       "    <tr>\n",
       "      <th>4</th>\n",
       "      <td>0.0</td>\n",
       "      <td>1.0</td>\n",
       "      <td>1.0</td>\n",
       "      <td>0.0</td>\n",
       "      <td>0.0</td>\n",
       "      <td>1.0</td>\n",
       "      <td>1.0</td>\n",
       "      <td>0.0</td>\n",
       "      <td>0.0</td>\n",
       "      <td>80.0</td>\n",
       "      <td>F</td>\n",
       "    </tr>\n",
       "  </tbody>\n",
       "</table>\n",
       "</div>"
      ],
      "text/plain": [
       "   Alternate  Bar  Friday  Hungry  Patrons  Price  Raining  Reservation  Type  \\\n",
       "0        1.0  0.0     0.0     1.0      0.0    1.0      0.0          0.0   3.0   \n",
       "1        1.0  0.0     1.0     1.0      0.0    1.0      0.0          0.0   3.0   \n",
       "2        1.0  0.0     1.0     0.0      0.0    0.0      0.0          1.0   1.0   \n",
       "3        0.0  1.0     0.0     0.0      1.0    1.0      1.0          0.0   0.0   \n",
       "4        0.0  1.0     1.0     0.0      0.0    1.0      1.0          0.0   0.0   \n",
       "\n",
       "   WaitEstimate Wait  \n",
       "0          40.0    F  \n",
       "1          12.0    T  \n",
       "2          70.0    F  \n",
       "3           7.0    F  \n",
       "4          80.0    F  "
      ]
     },
     "execution_count": 93,
     "metadata": {},
     "output_type": "execute_result"
    }
   ],
   "source": [
    "match_left, false_right = partition(example, 'Patrons', 1.5)\n",
    "print(match_left.shape)\n",
    "print(false_right.shape)\n",
    "match_left.head()"
   ]
  },
  {
   "cell_type": "code",
   "execution_count": 94,
   "metadata": {
    "id": "svjMYA_6VmoN"
   },
   "outputs": [],
   "source": [
    "def entropy(data):\n",
    "  \"\"\"\n",
    "  The *entropy* function will calculate the entropy of the node(data)\n",
    "  args:\n",
    "  *    data(DataFrame): the data you're calculating for the entropy\n",
    "  output:\n",
    "  *    entropy(float): the node(data)'s entropy     \n",
    "  \"\"\"\n",
    "  count_T = 0\n",
    "  count_F = 0\n",
    "  for i in range(0,len(data)):\n",
    "    if data['Wait'][i] == 'T':\n",
    "      count_T+=1\n",
    "    elif data['Wait'][i] == 'F':\n",
    "      count_F+=1\n",
    "  if count_T== 0 or count_F == 0:\n",
    "    return 0\n",
    "  p = count_T/len(data)\n",
    "  log_p = np.log2(p)\n",
    "  q = count_F/len(data)\n",
    "  log_q = np.log2(q)\n",
    "  entropy = (-1)*(p*log_p + q*log_q)\n",
    "  return entropy"
   ]
  },
  {
   "cell_type": "markdown",
   "metadata": {
    "id": "yBvTDwJwfVY7"
   },
   "source": [
    "An example of the output from entropy (Use this to check if your output is correct): "
   ]
  },
  {
   "cell_type": "code",
   "execution_count": 95,
   "metadata": {
    "colab": {
     "base_uri": "https://localhost:8080/"
    },
    "id": "N_5y1Bz3lx2g",
    "outputId": "9a36d742-be7e-4d7f-adcc-4268f6a0a217"
   },
   "outputs": [
    {
     "name": "stdout",
     "output_type": "stream",
     "text": [
      "0.7219280948873623\n"
     ]
    }
   ],
   "source": [
    "match, false = partition(example, 'Hungry', 0.5)\n",
    "entropy1 = entropy(match)\n",
    "print(entropy1)"
   ]
  },
  {
   "cell_type": "code",
   "execution_count": 96,
   "metadata": {
    "id": "69Vj7RELq7eF"
   },
   "outputs": [],
   "source": [
    "#implementation 1: calculate the entropy of 'false_right' data\n",
    "ans_entropy = entropy(false)"
   ]
  },
  {
   "cell_type": "markdown",
   "metadata": {
    "id": "mR4wP6nOVOUE"
   },
   "source": [
    "## Find the Best Split *(20%)*"
   ]
  },
  {
   "cell_type": "code",
   "execution_count": 97,
   "metadata": {
    "id": "PVcFND4BG4Zx"
   },
   "outputs": [],
   "source": [
    "# search for the best attribute and the value(threshold) to split the data\n",
    "def findBestSplit(data):\n",
    "    \"\"\"\n",
    "    The *findBestSplit* function finds the best combination of attribute and value(with the largest reduction in entropy) to split the data.\n",
    "    args:\n",
    "    *   data(DataFrame): the data you try to split(build the decision tree)\n",
    "    output:\n",
    "    *   column_best(str): the attribute(column) split with the largest reduction in entropy\n",
    "    *   value_best(float): the value(threshold) of the column_best attribute to split the data\n",
    "    \"\"\"\n",
    "    all_entropy = 9999        #the overall entropy : save the value of the smallest entropy\n",
    "    column_best = 0\n",
    "    value_best = 0\n",
    "\n",
    "    N = len(example)\n",
    "\n",
    "    A_match, A_false = partition(data, 'Alternate', 0.5)\n",
    "    Alternate_entropy = (len(A_match)/N)*entropy(A_match) + (len(A_false)/N)*entropy(A_false)\n",
    "\n",
    "    if Alternate_entropy < all_entropy:\n",
    "        all_entropy = Alternate_entropy\n",
    "        column_best = 'Alternate'\n",
    "        value_best = 0.5\n",
    "        if all_entropy == 0:\n",
    "            return column_best, value_best\n",
    "    \n",
    "    #  Bar\n",
    "    Bar_match, Bar_false = partition(data, 'Bar', 0.5)\n",
    "    Bar_entropy = (len(Bar_match)/N)*entropy(Bar_match) + (len(Bar_false)/N)*entropy(Bar_false)\n",
    "    if Bar_entropy < all_entropy:\n",
    "        column_best = 'Bar'\n",
    "        value_best = 0.5\n",
    "        all_entropy = Bar_entropy\n",
    "        if all_entropy == 0:\n",
    "            return column_best, value_best\n",
    "\n",
    "    #  Friday\n",
    "    Friday_match, Friday_false = partition(data, 'Friday', 0.5)\n",
    "    Friday_entropy = (len(Friday_match)/N)*entropy(Friday_match) + (len(Friday_false)/N)*entropy(Friday_false)\n",
    "    if Friday_entropy < all_entropy:\n",
    "        column_best = 'Friday'\n",
    "        value_best = 0.5\n",
    "        all_entropy = Friday_entropy        \n",
    "        if all_entropy == 0:\n",
    "            return column_best, value_best\n",
    "    \n",
    "    #  Hungry\n",
    "    Hungry_match, Hungry_false = partition(data, 'Hungry', 0.5)\n",
    "    Hungry_entropy = (len(Hungry_match)/N)*entropy(Hungry_match) + (len(Hungry_false)/N)*entropy(Hungry_false)\n",
    "    if Hungry_entropy < all_entropy:\n",
    "        column_best = 'Hungry'\n",
    "        value_best = 0.5\n",
    "        all_entropy = Hungry_entropy        \n",
    "        if all_entropy == 0:\n",
    "            return column_best, value_best\n",
    "    \n",
    "    #  Patrons\n",
    "    Patrons_match, Patrons_false = partition(data, 'Patrons', 1.5)\n",
    "    Patrons_entropy = (len(Patrons_match)/N)*entropy(Patrons_match) + (len(Patrons_false)/N)*entropy(Patrons_false)\n",
    "    if Patrons_entropy < all_entropy:\n",
    "        column_best = 'Patrons'\n",
    "        value_best = 1.5\n",
    "        all_entropy = Patrons_entropy        \n",
    "        if all_entropy == 0:\n",
    "            return column_best, value_best\n",
    "   \n",
    "    #  Price\n",
    "    Price_match, Price_false = partition(data, 'Price', 1.5)\n",
    "    Price_entropy = (len(Price_match)/N)*entropy(Price_match) + (len(Price_false)/N)*entropy(Price_false)\n",
    "    if Price_entropy < all_entropy:\n",
    "        column_best = 'Price'\n",
    "        value_best = 1.5  \n",
    "        all_entropy = Price_entropy        \n",
    "        if all_entropy == 0:\n",
    "            return column_best, value_best\n",
    "    \n",
    "    #  Raining\n",
    "    Raining_match, Raining_false = partition(data, 'Raining', 0.5)\n",
    "    Raining_entropy = (len(Raining_match)/N)*entropy(Raining_match) + (len(Raining_false)/N)*entropy(Raining_false)\n",
    "    if Raining_entropy < all_entropy:\n",
    "        column_best = 'Raining'\n",
    "        value_best = 0.5\n",
    "        all_entropy = Raining_entropy        \n",
    "        if all_entropy == 0:\n",
    "            return column_best, value_best\n",
    "    \n",
    "    #  Reservation\n",
    "    Reservation_match, Reservation_false = partition(data, 'Reservation', 0.5)\n",
    "    Reservation_entropy = (len(Reservation_match)/N)*entropy(Reservation_match) + (len(Reservation_false)/N)*entropy(Reservation_false)\n",
    "    if Reservation_entropy < all_entropy:\n",
    "        column_best = 'Reservation'\n",
    "        value_best = 0.5   \n",
    "        all_entropy = Reservation_entropy        \n",
    "        if all_entropy == 0:\n",
    "            return column_best, value_best\n",
    "    \n",
    "    #  Type\n",
    "    Type_match, Type_false = partition(data, 'Type', 2)\n",
    "    Type_entropy = (len(Type_match)/N)*entropy(Type_match) + (len(Type_false)/N)*entropy(Type_false)\n",
    "    if Type_entropy < all_entropy:\n",
    "        column_best = 'Type'\n",
    "        value_best = 2   \n",
    "        all_entropy = Type_entropy        \n",
    "        if all_entropy == 0:\n",
    "            return column_best, value_best\n",
    "          \n",
    "   #  WaitEstimate\n",
    "    WaitEstimate_match, WaitEstimate_false = partition(data, 'WaitEstimate', 20)\n",
    "    WaitEstimate_entropy = (len(WaitEstimate_match)/N)*entropy(WaitEstimate_match) + (len(WaitEstimate_false)/N)*entropy(WaitEstimate_false)\n",
    "    if WaitEstimate_entropy < all_entropy:\n",
    "        column_best = 'WaitEstimate'\n",
    "        value_best = 20\n",
    "        all_entropy = WaitEstimate_entropy        \n",
    "        if all_entropy == 0:\n",
    "            return column_best, value_best\n",
    "\n",
    "    \n",
    "    return column_best, value_best\n",
    "  "
   ]
  },
  {
   "cell_type": "markdown",
   "metadata": {
    "id": "H73vwEBPfB67"
   },
   "source": [
    "An example of the output from findBestSplit (Use this to check if your output is correct):"
   ]
  },
  {
   "cell_type": "code",
   "execution_count": 98,
   "metadata": {
    "colab": {
     "base_uri": "https://localhost:8080/"
    },
    "id": "2y9_0MwR9IgH",
    "outputId": "fd2dcad8-01a1-47ee-aecf-b0da34b46541"
   },
   "outputs": [
    {
     "name": "stdout",
     "output_type": "stream",
     "text": [
      "Patrons\n",
      "1.5\n"
     ]
    }
   ],
   "source": [
    "column_best, value_best = findBestSplit(match)\n",
    "print(column_best)\n",
    "print(value_best)"
   ]
  },
  {
   "cell_type": "code",
   "execution_count": 99,
   "metadata": {
    "id": "NNcKR6tf12hn"
   },
   "outputs": [],
   "source": [
    "#implementation 2: Find the best split of the 'match' data\n",
    "ans_column, ans_value = findBestSplit(false)"
   ]
  },
  {
   "cell_type": "markdown",
   "metadata": {
    "id": "hD31mGJuVbAx"
   },
   "source": [
    "## Decision Tree Building *(30%)*\n",
    "\n",
    "Use the above functions to help building the decision tree\n",
    "\n",
    "\n",
    "\n"
   ]
  },
  {
   "cell_type": "code",
   "execution_count": 100,
   "metadata": {
    "id": "1PHuRhmoIdnV"
   },
   "outputs": [],
   "source": [
    "def buildTree(df, depth):\n",
    "  \"\"\"\n",
    "  The *buildTree* function builds the decision tree\n",
    "  args:\n",
    "  *     df(DataFrame): the data you want to apply the decision tree\n",
    "  *     depth(int) : the depth of your tree\n",
    "  output:\n",
    "  *     decisionSubTree(dict): the decision tree structure including root, branch, leaf(with the attributes and thresholds)\n",
    "  *     features(list): the features(attributes) name in the decision tree structure(from root to branch and leaf)\n",
    "  *     thresholds(list): the corresponding thresholds for the features in the 'features' list\n",
    "  \"\"\"\n",
    "  data = df\n",
    "\n",
    "  if depth<=0 or entropy(data)== 0 :  \n",
    "    features = []\n",
    "    thresholds = []\n",
    "    decisionSubTree = []\n",
    "    if entropy(data)== 0:\n",
    "      decisionSubTree = [data['Wait'][0]]\n",
    "    return decisionSubTree, features, thresholds\n",
    "\n",
    "  features = []\n",
    "  thresholds = []\n",
    "  decisionSubTree = []\n",
    "\n",
    "\n",
    "  column_best, value_best = findBestSplit(data)\n",
    "  match_data, false_data = partition(data, column_best, value_best)\n",
    "  features = [column_best]\n",
    "  thresholds = [value_best]\n",
    "  \n",
    "  decisionSubTree1, features1, thresholds1 = buildTree(match_data,depth-1)\n",
    "\n",
    "  decisionSubTree2, features2, thresholds2 = buildTree(false_data,depth-1)\n",
    "\n",
    "  if features1 != None:\n",
    "    features = features+features1\n",
    "  if features2 != None:\n",
    "    features = features+features2\n",
    "  \n",
    "  if thresholds1 != None: \n",
    "    thresholds = thresholds+thresholds1\n",
    "  if thresholds2 != None: \n",
    "    thresholds = thresholds+thresholds2\n",
    "\n",
    "\n",
    "  title = column_best+'<='+str(value_best)+': '\n",
    "  tmp = [title]\n",
    "  if  decisionSubTree1 != None:\n",
    "    tmp = tmp+decisionSubTree1\n",
    "  if  decisionSubTree2 != None:\n",
    "    tmp = tmp + decisionSubTree2\n",
    "  decisionSubTree =  [tmp + decisionSubTree]\n",
    "  \n",
    "  return decisionSubTree, features, thresholds\n",
    "  "
   ]
  },
  {
   "cell_type": "markdown",
   "metadata": {
    "id": "RlmycuRYeo4E"
   },
   "source": [
    "An example of the output from buildTree (Use this to check if your output is correct): "
   ]
  },
  {
   "cell_type": "code",
   "execution_count": 101,
   "metadata": {
    "colab": {
     "base_uri": "https://localhost:8080/"
    },
    "id": "HwaWdJ2KaFnz",
    "outputId": "f1206915-1bf7-41f3-c904-d1dd91975721"
   },
   "outputs": [
    {
     "name": "stdout",
     "output_type": "stream",
     "text": [
      "[['Patrons<=1.5: ', ['Hungry<=0.5: ', 'F'], 'T']]\n",
      "['Patrons', 'Hungry']\n",
      "[1.5, 0.5]\n"
     ]
    }
   ],
   "source": [
    "tree, features, thresholds= buildTree(example, 2)\n",
    "print(tree)\n",
    "print(features)\n",
    "print(thresholds)\n",
    "# tree 解釋\n",
    "# 每顆子樹的表示法都是 => [特徵:'符合特徵的','不符合特徵的']\n",
    "# 如果depth是4 就會長 [['Patrons<=1.5: ', ['Hungry<=0.5: ', 'F'], 'T']]\n",
    "# 如果depth是4 就會長 [['Patrons<=1.5: ', ['Hungry<=0.5: ', 'F', ['Friday<=0.5: ', 'F', ['Reservation<=0.5: ', 'T', 'F']]], 'T']]\n"
   ]
  },
  {
   "cell_type": "code",
   "execution_count": 102,
   "metadata": {
    "id": "S7LcV0jwrvGW"
   },
   "outputs": [],
   "source": [
    "#implementation 3: decision tree building (depth=10)\n",
    "ans_tree, ans_features, ans_thresholds = buildTree(example,10)"
   ]
  },
  {
   "cell_type": "code",
   "execution_count": 103,
   "metadata": {
    "id": "oz_UrVDQr0ZO"
   },
   "outputs": [
    {
     "name": "stdout",
     "output_type": "stream",
     "text": [
      "[0.863120568566631, 'Patrons', 1.5, 'Patrons', 'Hungry', 'Friday', 'Reservation', 1.5, 0.5, 0.5, 0.5]\n"
     ]
    }
   ],
   "source": [
    "#save implementation csv\n",
    "ans_path = STUDENT_ID + '_implementation.csv'\n",
    "\n",
    "imp = []\n",
    "imp.append(ans_entropy)\n",
    "imp.append(ans_column)\n",
    "imp.append(ans_value)\n",
    "for i in range(len(ans_features)):\n",
    "  imp.append(ans_features[i])\n",
    "for m in range(len(ans_thresholds)):\n",
    "  imp.append(ans_thresholds[m])\n",
    "print(imp)\n",
    "pd.DataFrame(imp).to_csv(ans_path, header = None, index = None)"
   ]
  },
  {
   "cell_type": "markdown",
   "metadata": {
    "id": "tniHsNdk6vH5"
   },
   "source": [
    "# **2. Classification with the MIMIC Dataset**\n",
    "In the second part, you need to classify **'hospDIED'(death)** in the MIMIC dataset.\n",
    "\n",
    "Please put the classification result in a csv file. (**[STUDENTID]_prediction.csv**)\n",
    "\n",
    "**Note:** Decision tree is recommended but not mandatory."
   ]
  },
  {
   "cell_type": "markdown",
   "metadata": {
    "id": "yr3B7qWCW6mX"
   },
   "source": [
    "## Prediction (Performance) *(20%)*\n",
    "\n",
    "The **y_test** (hospDIED) of this data is hidden, you need to use the x_test.csv to predict the y_test.\n",
    "\n",
    "**Note:** You **can** now import the packages you need here!"
   ]
  },
  {
   "cell_type": "markdown",
   "metadata": {
    "id": "luEGVyG44_Xe"
   },
   "source": [
    "Get the MIMIC data here!\n",
    "\n",
    "Data Description: \n",
    "\n",
    "[Data Description](https://docs.google.com/spreadsheets/d/1pxqxQFhIcv_hrgWEtwhXE6zBVQ5ISa-13PIhvXMtWCY/edit?usp=sharing) (You can find the data description here.)\n",
    "\n",
    "**Note:**\n",
    "*   You can select the features you want to use.\n",
    "*   You can use any ML models to predict the y_test.\n",
    "\n",
    "  (However, there is a 10% bonus if you **visualize** the decision tree in this part)\n",
    "\n",
    "\n",
    "[ref]: *Johnson, A. E. W., Pollard, T. J., Shen, L., Lehman, L. H., Feng, M., Ghassemi, M., Moody, B., Szolovits, P., Celi, L. A., & Mark, R. G. (2016). MIMIC-III, a freely accessible critical care database. Scientific Data, 3, 160035.*\n"
   ]
  },
  {
   "cell_type": "code",
   "execution_count": 104,
   "metadata": {
    "colab": {
     "base_uri": "https://localhost:8080/",
     "height": 270
    },
    "id": "COe36S4wc-_x",
    "outputId": "2e07ee1f-9dc7-412e-9dd8-de36369b601d"
   },
   "outputs": [
    {
     "data": {
      "text/html": [
       "<div>\n",
       "<style scoped>\n",
       "    .dataframe tbody tr th:only-of-type {\n",
       "        vertical-align: middle;\n",
       "    }\n",
       "\n",
       "    .dataframe tbody tr th {\n",
       "        vertical-align: top;\n",
       "    }\n",
       "\n",
       "    .dataframe thead th {\n",
       "        text-align: right;\n",
       "    }\n",
       "</style>\n",
       "<table border=\"1\" class=\"dataframe\">\n",
       "  <thead>\n",
       "    <tr style=\"text-align: right;\">\n",
       "      <th></th>\n",
       "      <th>subject_id</th>\n",
       "      <th>age</th>\n",
       "      <th>los</th>\n",
       "      <th>CA</th>\n",
       "      <th>DNR</th>\n",
       "      <th>CMO</th>\n",
       "      <th>DNI</th>\n",
       "      <th>indextime</th>\n",
       "      <th>female</th>\n",
       "      <th>first_careunit</th>\n",
       "      <th>...</th>\n",
       "      <th>Enlarged Cardiomediastinum</th>\n",
       "      <th>Fracture</th>\n",
       "      <th>Lung Lesion</th>\n",
       "      <th>Lung Opacity</th>\n",
       "      <th>No Finding</th>\n",
       "      <th>Pleural Effusion</th>\n",
       "      <th>Pleural Other</th>\n",
       "      <th>Pneumonia</th>\n",
       "      <th>Pneumothorax</th>\n",
       "      <th>Support Devices</th>\n",
       "    </tr>\n",
       "  </thead>\n",
       "  <tbody>\n",
       "    <tr>\n",
       "      <th>0</th>\n",
       "      <td>10246985</td>\n",
       "      <td>48</td>\n",
       "      <td>1.826250</td>\n",
       "      <td>0</td>\n",
       "      <td>0</td>\n",
       "      <td>0</td>\n",
       "      <td>0</td>\n",
       "      <td>30JUN38:20:25:48</td>\n",
       "      <td>1</td>\n",
       "      <td>10</td>\n",
       "      <td>...</td>\n",
       "      <td>2</td>\n",
       "      <td>9</td>\n",
       "      <td>9</td>\n",
       "      <td>9</td>\n",
       "      <td>9</td>\n",
       "      <td>0</td>\n",
       "      <td>9</td>\n",
       "      <td>9</td>\n",
       "      <td>0</td>\n",
       "      <td>9</td>\n",
       "    </tr>\n",
       "    <tr>\n",
       "      <th>1</th>\n",
       "      <td>14538806</td>\n",
       "      <td>59</td>\n",
       "      <td>10.581123</td>\n",
       "      <td>0</td>\n",
       "      <td>0</td>\n",
       "      <td>0</td>\n",
       "      <td>0</td>\n",
       "      <td>03SEP59:14:15:14</td>\n",
       "      <td>1</td>\n",
       "      <td>10</td>\n",
       "      <td>...</td>\n",
       "      <td>4</td>\n",
       "      <td>4</td>\n",
       "      <td>4</td>\n",
       "      <td>4</td>\n",
       "      <td>4</td>\n",
       "      <td>4</td>\n",
       "      <td>4</td>\n",
       "      <td>4</td>\n",
       "      <td>4</td>\n",
       "      <td>4</td>\n",
       "    </tr>\n",
       "    <tr>\n",
       "      <th>2</th>\n",
       "      <td>12850130</td>\n",
       "      <td>73</td>\n",
       "      <td>2.065255</td>\n",
       "      <td>0</td>\n",
       "      <td>0</td>\n",
       "      <td>0</td>\n",
       "      <td>0</td>\n",
       "      <td>30SEP87:20:50:56</td>\n",
       "      <td>1</td>\n",
       "      <td>4</td>\n",
       "      <td>...</td>\n",
       "      <td>4</td>\n",
       "      <td>4</td>\n",
       "      <td>4</td>\n",
       "      <td>4</td>\n",
       "      <td>4</td>\n",
       "      <td>4</td>\n",
       "      <td>4</td>\n",
       "      <td>4</td>\n",
       "      <td>4</td>\n",
       "      <td>4</td>\n",
       "    </tr>\n",
       "    <tr>\n",
       "      <th>3</th>\n",
       "      <td>11810761</td>\n",
       "      <td>84</td>\n",
       "      <td>1.435428</td>\n",
       "      <td>0</td>\n",
       "      <td>0</td>\n",
       "      <td>0</td>\n",
       "      <td>0</td>\n",
       "      <td>06JUN22:11:36:44</td>\n",
       "      <td>1</td>\n",
       "      <td>10</td>\n",
       "      <td>...</td>\n",
       "      <td>0</td>\n",
       "      <td>9</td>\n",
       "      <td>9</td>\n",
       "      <td>0</td>\n",
       "      <td>9</td>\n",
       "      <td>0</td>\n",
       "      <td>9</td>\n",
       "      <td>1</td>\n",
       "      <td>9</td>\n",
       "      <td>9</td>\n",
       "    </tr>\n",
       "    <tr>\n",
       "      <th>4</th>\n",
       "      <td>13109236</td>\n",
       "      <td>66</td>\n",
       "      <td>1.443414</td>\n",
       "      <td>0</td>\n",
       "      <td>0</td>\n",
       "      <td>0</td>\n",
       "      <td>0</td>\n",
       "      <td>25MAR31:21:09:15</td>\n",
       "      <td>0</td>\n",
       "      <td>1</td>\n",
       "      <td>...</td>\n",
       "      <td>4</td>\n",
       "      <td>4</td>\n",
       "      <td>4</td>\n",
       "      <td>4</td>\n",
       "      <td>4</td>\n",
       "      <td>4</td>\n",
       "      <td>4</td>\n",
       "      <td>4</td>\n",
       "      <td>4</td>\n",
       "      <td>4</td>\n",
       "    </tr>\n",
       "  </tbody>\n",
       "</table>\n",
       "<p>5 rows × 84 columns</p>\n",
       "</div>"
      ],
      "text/plain": [
       "   subject_id  age        los  CA  DNR  CMO  DNI         indextime  female  \\\n",
       "0    10246985   48   1.826250   0    0    0    0  30JUN38:20:25:48       1   \n",
       "1    14538806   59  10.581123   0    0    0    0  03SEP59:14:15:14       1   \n",
       "2    12850130   73   2.065255   0    0    0    0  30SEP87:20:50:56       1   \n",
       "3    11810761   84   1.435428   0    0    0    0  06JUN22:11:36:44       1   \n",
       "4    13109236   66   1.443414   0    0    0    0  25MAR31:21:09:15       0   \n",
       "\n",
       "   first_careunit  ...  Enlarged Cardiomediastinum  Fracture  Lung Lesion  \\\n",
       "0              10  ...                           2         9            9   \n",
       "1              10  ...                           4         4            4   \n",
       "2               4  ...                           4         4            4   \n",
       "3              10  ...                           0         9            9   \n",
       "4               1  ...                           4         4            4   \n",
       "\n",
       "   Lung Opacity  No Finding  Pleural Effusion  Pleural Other  Pneumonia  \\\n",
       "0             9           9                 0              9          9   \n",
       "1             4           4                 4              4          4   \n",
       "2             4           4                 4              4          4   \n",
       "3             0           9                 0              9          1   \n",
       "4             4           4                 4              4          4   \n",
       "\n",
       "   Pneumothorax  Support Devices  \n",
       "0             0                9  \n",
       "1             4                4  \n",
       "2             4                4  \n",
       "3             9                9  \n",
       "4             4                4  \n",
       "\n",
       "[5 rows x 84 columns]"
      ]
     },
     "execution_count": 104,
     "metadata": {},
     "output_type": "execute_result"
    }
   ],
   "source": [
    "#Read data\n",
    "x_train = pd.read_csv('https://raw.githubusercontent.com/aubreyyy24/HW2_data/main/x_train.csv')\n",
    "y_train = pd.read_csv('https://raw.githubusercontent.com/aubreyyy24/HW2_data/main/y_train.csv')\n",
    "x_train.head()"
   ]
  },
  {
   "cell_type": "markdown",
   "metadata": {
    "id": "N2nP69qKhFsB"
   },
   "source": [
    "Complete your model with validation:"
   ]
  },
  {
   "cell_type": "code",
   "execution_count": 105,
   "metadata": {},
   "outputs": [],
   "source": [
    "from sklearn.tree import DecisionTreeClassifier\n",
    "from sklearn.ensemble import RandomForestClassifier\n",
    "from sklearn import tree\n",
    "import matplotlib.pyplot as plt\n",
    "import pydotplus\n",
    "from IPython.display import Image"
   ]
  },
  {
   "cell_type": "code",
   "execution_count": 106,
   "metadata": {},
   "outputs": [],
   "source": [
    "x_train = x_train.drop(['indextime','subject_id',], axis=1)"
   ]
  },
  {
   "cell_type": "code",
   "execution_count": 107,
   "metadata": {},
   "outputs": [],
   "source": [
    "#Split the data into training and testing sets\n",
    "x_training_data = x_train[0:10000]\n",
    "x_testing_data= x_train[10000:24641]\n",
    "\n",
    "y_training_data = y_train['hospDIED'][0:10000]\n",
    "y_testing_data= y_train['hospDIED'][10000:24641]"
   ]
  },
  {
   "cell_type": "code",
   "execution_count": 108,
   "metadata": {},
   "outputs": [],
   "source": [
    "x_training_list = np.array(x_training_data)#np.ndarray()\n",
    "x_training_list=x_training_list.tolist()#list\n",
    "\n",
    "y_training_list = np.array(y_training_data)#np.ndarray()\n",
    "y_testing_list= np.array(y_testing_data)#np.ndarray()\n"
   ]
  },
  {
   "cell_type": "code",
   "execution_count": 109,
   "metadata": {},
   "outputs": [
    {
     "data": {
      "image/png": "[encoded data removed]",
      "text/plain": [
       "<Figure size 432x288 with 1 Axes>"
      ]
     },
     "metadata": {
      "needs_background": "light"
     },
     "output_type": "display_data"
    }
   ],
   "source": [
    "#Build you model and evaluate it on your validation set\n",
    "randomForest = RandomForestClassifier(random_state=0,n_jobs=-1)\n",
    "model = randomForest.fit(x_training_list,y_training_list)\n",
    "\n",
    "importances = model.feature_importances_\n",
    "indices = np.argsort(importances)[::-1]\n",
    "\n",
    "L = x_train.columns.tolist()\n",
    "names = [L[i] for i in indices]\n",
    "\n",
    "plt.figure()\n",
    "plt.title('x importance')\n",
    "plt.bar(range(82),importances[indices])\n",
    "plt.xticks(range(82),names,rotation= 90)\n",
    "plt.show()\n",
    "# 下圖是每個特徵在隨機森林裡面的重要程度"
   ]
  },
  {
   "cell_type": "code",
   "execution_count": 110,
   "metadata": {},
   "outputs": [],
   "source": [
    "# 選出前十個最重要的特徵 調整資料 用來再重新訓練一次\n",
    "mostImportances = []\n",
    "for i in range(0,10):\n",
    " mostImportances.append(names[i])\n",
    "\n",
    "x_training_data = pd.DataFrame(x_training_data,columns=mostImportances)\n",
    "x_testing_data = pd.DataFrame(x_testing_data,columns=mostImportances)\n",
    "\n",
    "x_training_list = np.array(x_training_data)#np.ndarray()\n",
    "x_training_list=x_training_list.tolist()#list\n",
    "\n",
    "x_testing_list = np.array(x_testing_data)#np.ndarray()\n",
    "x_testing_list=x_testing_list.tolist()#list"
   ]
  },
  {
   "cell_type": "code",
   "execution_count": 111,
   "metadata": {},
   "outputs": [],
   "source": [
    "# 調整後的決策樹\n",
    "decisionTree = DecisionTreeClassifier(random_state= 0)\n",
    "decisionTreeModel = decisionTree.fit(x_training_list,y_training_list)\n",
    "p = decisionTreeModel.predict(x_testing_list)"
   ]
  },
  {
   "cell_type": "code",
   "execution_count": 112,
   "metadata": {},
   "outputs": [
    {
     "name": "stdout",
     "output_type": "stream",
     "text": [
      "0.8297247455774879\n"
     ]
    }
   ],
   "source": [
    "c = 0\n",
    "for i  in range(0,len(y_testing_list)):\n",
    "    if y_testing_list[i]== p[i]:\n",
    "        c = c+1\n",
    "print(c/len(y_testing_list))\n",
    "# 準度有83% 好像不錯"
   ]
  },
  {
   "cell_type": "markdown",
   "metadata": {
    "id": "V6MagTAmhURi"
   },
   "source": [
    "Make the final prediction from your model:"
   ]
  },
  {
   "cell_type": "code",
   "execution_count": 113,
   "metadata": {},
   "outputs": [],
   "source": [
    "# final prediction\n",
    "x_test = pd.read_csv('https://raw.githubusercontent.com/aubreyyy24/HW2_data/main/x_test.csv')\n",
    "x_test_drop = x_test.drop(['indextime','subject_id',], axis=1)\n",
    "\n",
    "x_test_drop = pd.DataFrame(x_test_drop,columns=mostImportances)\n",
    "\n",
    "x_test_list= np.array(x_test_drop)#np.ndarray()\n",
    "x_test_list=x_test_list.tolist()#list\n",
    "\n",
    "y_pred = decisionTreeModel.predict(x_test_list)"
   ]
  },
  {
   "cell_type": "markdown",
   "metadata": {
    "id": "zocBlOKdgaO8"
   },
   "source": [
    "To export your predcition as a CSV file and hand in the CSV on elearn"
   ]
  },
  {
   "cell_type": "code",
   "execution_count": 114,
   "metadata": {
    "id": "8YOjsyVmDA1s"
   },
   "outputs": [],
   "source": [
    "output_path = STUDENT_ID + '_prediction.csv'\n",
    "\n",
    "tree_test_pred = pd.DataFrame( {'subject_id': x_test.subject_id,\n",
    "                  'prediction': y_pred } )\n",
    "tree_test_pred.to_csv(output_path, index = False)"
   ]
  },
  {
   "cell_type": "markdown",
   "metadata": {
    "id": "aMh7DF47XV4k"
   },
   "source": [
    "## Visualizing the Decision Tree *(10% bonus)*\n",
    "\n",
    "**Note:** Save the visualization result image as **[STUDENT_ID]_visualization.png**\n",
    "\n",
    "*   Your visualization image of the decision tree can contain **five** layers at most.\n"
   ]
  },
  {
   "cell_type": "code",
   "execution_count": 115,
   "metadata": {
    "id": "2tr0cSuooJpc"
   },
   "outputs": [
    {
     "data": {
      "image/png": "[encoded data removed]",
      "text/plain": [
       "<IPython.core.display.Image object>"
      ]
     },
     "execution_count": 115,
     "metadata": {},
     "output_type": "execute_result"
    }
   ],
   "source": [
    "#Decision Tree Visualization\n",
    "dot_data = tree.export_graphviz(decisionTree,out_file=None, max_depth=5,feature_names=mostImportances,class_names=None)\n",
    "graph = pydotplus.graph_from_dot_data(dot_data)\n",
    "Image(graph.create_png())"
   ]
  },
  {
   "cell_type": "markdown",
   "metadata": {
    "id": "nU6YmzzrsaNl"
   },
   "source": [
    "# Report *(10%)*\n",
    "\n",
    "Report should be submitted as a pdf file! (**[STUDENT_ID]_report.pdf**)\n",
    "\n",
    "*   List the top 3 splitting features and their thresholds of your model\n",
    "*   Briefly describe how you build the decision tree\n",
    "*   Describe if you apply any improvement on your decision tree model\n",
    "*   If you preprocess the MIMIC data in the second part (selecting features...), describe the work and reasons\n",
    "*   Summarize your work\n",
    "*   Do not exceed 2 pages!\n",
    "\n",
    "\n",
    "\n",
    "\n"
   ]
  },
  {
   "cell_type": "markdown",
   "metadata": {
    "id": "JkqzcPNazBKd"
   },
   "source": [
    "# Save the Code File\n",
    "Please save your code and submit it as an ipynb file! (**[STUDENT_ID]_hw2.ipynb**)"
   ]
  }
 ],
 "metadata": {
  "colab": {
   "collapsed_sections": [
    "yEtwmT5QNVLn"
   ],
   "name": "HW2_Decision_Tree.ipynb",
   "provenance": []
  },
  "kernelspec": {
   "display_name": "Python 3",
   "language": "python",
   "name": "python3"
  },
  "language_info": {
   "codemirror_mode": {
    "name": "ipython",
    "version": 3
   },
   "file_extension": ".py",
   "mimetype": "text/x-python",
   "name": "python",
   "nbconvert_exporter": "python",
   "pygments_lexer": "ipython3",
   "version": "3.9.6"
  }
 },
 "nbformat": 4,
 "nbformat_minor": 1
}
